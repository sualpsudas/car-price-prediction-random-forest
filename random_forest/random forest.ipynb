{
 "cells": [
  {
   "cell_type": "code",
   "execution_count": 1,
   "id": "107ab01f",
   "metadata": {},
   "outputs": [],
   "source": [
    "import pandas as pd\n",
    "import numpy as np \n",
    "import matplotlib.pyplot as plt"
   ]
  },
  {
   "cell_type": "code",
   "execution_count": 2,
   "id": "467e726d",
   "metadata": {},
   "outputs": [],
   "source": [
    "data=pd.read_csv(\"USA_cars_datasets.csv\",index_col=0)"
   ]
  },
  {
   "cell_type": "code",
   "execution_count": 3,
   "id": "07811995",
   "metadata": {},
   "outputs": [],
   "source": [
    "data=data.drop(data[data.price==0].index,axis=0).sort_values(by=\"price\").reset_index(drop=True)"
   ]
  },
  {
   "cell_type": "code",
   "execution_count": 4,
   "id": "2cc30fae",
   "metadata": {},
   "outputs": [],
   "source": [
    "def year(x):\n",
    "    return 2021-x\n",
    "data[\"year\"]=data[\"year\"].apply(year)"
   ]
  },
  {
   "cell_type": "code",
   "execution_count": 5,
   "id": "829588cf",
   "metadata": {},
   "outputs": [],
   "source": [
    "data.drop([\"vin\",\"lot\"],axis=1,inplace=True)"
   ]
  },
  {
   "cell_type": "code",
   "execution_count": 6,
   "id": "a461841a",
   "metadata": {},
   "outputs": [],
   "source": [
    "#Here is algorithm for intersection over IQR in all columns one by one.\n",
    "q1=data.quantile(0.25)\n",
    "q3=data.quantile(0.75)\n",
    "IQR=q3-q1\n",
    "lower_limit=q1-1.5*IQR\n",
    "upper_limit=q3+1.5*IQR\n",
    "data_columns=[]\n",
    "data2={}\n",
    "a=[]\n",
    "intersection=[]\n",
    "for i in data.columns:\n",
    "    if data[str(i)].dtype=='int' or data[str(i)].dtype=='float':\n",
    "        data_columns.append(i)\n",
    "        data2[\"{0}\".format(i)] =data[(data[str(i)]> lower_limit[str(i)])&(data[str(i)]< upper_limit[str(i)])]\n",
    "for i in data2:\n",
    "    for i in [i for i in list(data2[i].index)]:\n",
    "        a.append(i)\n",
    "for i in a:\n",
    "    if a.count(i)==len(data_columns):\n",
    "        intersection.append(i)\n",
    "data2=data.loc[intersection].drop_duplicates()"
   ]
  },
  {
   "cell_type": "code",
   "execution_count": 7,
   "id": "022be10b",
   "metadata": {},
   "outputs": [
    {
     "data": {
      "text/plain": [
       "0.9234527687296417"
      ]
     },
     "execution_count": 7,
     "metadata": {},
     "output_type": "execute_result"
    }
   ],
   "source": [
    "data2.shape[0]/data.shape[0]"
   ]
  },
  {
   "cell_type": "code",
   "execution_count": 8,
   "id": "22287640",
   "metadata": {},
   "outputs": [],
   "source": [
    "data2.reset_index(drop=True,inplace=True)"
   ]
  },
  {
   "cell_type": "code",
   "execution_count": 9,
   "id": "9a3d4229",
   "metadata": {},
   "outputs": [],
   "source": [
    "y=data2[\"price\"]"
   ]
  },
  {
   "cell_type": "code",
   "execution_count": 10,
   "id": "6cbdc14e",
   "metadata": {},
   "outputs": [],
   "source": [
    "x=data2.drop([\"price\"],axis=1)\n",
    "x=pd.get_dummies(x,drop_first=True)"
   ]
  },
  {
   "cell_type": "code",
   "execution_count": 11,
   "id": "53b7fc11",
   "metadata": {},
   "outputs": [],
   "source": [
    "from sklearn.model_selection import train_test_split\n",
    "x_train,x_test,y_train,y_test=train_test_split(x.values,y.values,test_size=0.33,random_state=42)"
   ]
  },
  {
   "cell_type": "code",
   "execution_count": 12,
   "id": "c6d917ec",
   "metadata": {},
   "outputs": [
    {
     "data": {
      "text/plain": [
       "RandomForestRegressor(n_estimators=10, random_state=0)"
      ]
     },
     "execution_count": 12,
     "metadata": {},
     "output_type": "execute_result"
    }
   ],
   "source": [
    "from sklearn.ensemble import RandomForestRegressor\n",
    "rf_reg=RandomForestRegressor(n_estimators = 10,random_state=0)\n",
    "rf_reg.fit(x_train,y_train.ravel())"
   ]
  },
  {
   "cell_type": "code",
   "execution_count": 13,
   "id": "df099c1a",
   "metadata": {},
   "outputs": [],
   "source": [
    "y_pred=rf_reg.predict(x_test)"
   ]
  },
  {
   "cell_type": "code",
   "execution_count": 14,
   "id": "9011349a",
   "metadata": {},
   "outputs": [
    {
     "data": {
      "text/plain": [
       "0.6294857541530499"
      ]
     },
     "execution_count": 14,
     "metadata": {},
     "output_type": "execute_result"
    }
   ],
   "source": [
    "from sklearn.metrics import r2_score\n",
    "r2_score(y_test,y_pred)"
   ]
  }
 ],
 "metadata": {
  "kernelspec": {
   "display_name": "Python 3",
   "language": "python",
   "name": "python3"
  },
  "language_info": {
   "codemirror_mode": {
    "name": "ipython",
    "version": 3
   },
   "file_extension": ".py",
   "mimetype": "text/x-python",
   "name": "python",
   "nbconvert_exporter": "python",
   "pygments_lexer": "ipython3",
   "version": "3.8.10"
  }
 },
 "nbformat": 4,
 "nbformat_minor": 5
}
